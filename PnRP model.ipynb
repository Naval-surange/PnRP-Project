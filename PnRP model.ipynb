{
 "cells": [
  {
   "cell_type": "code",
   "execution_count": 1,
   "metadata": {},
   "outputs": [],
   "source": [
    "import pandas_datareader as pdr\n",
    "from sklearn.model_selection import train_test_split\n",
    "from sklearn.metrics import accuracy_score\n",
    "from sklearn.naive_bayes import BernoulliNB\n",
    "from sklearn.naive_bayes import GaussianNB\n",
    "from sklearn.naive_bayes import MultinomialNB\n",
    "from sklearn.naive_bayes import ComplementNB \n",
    "from sklearn.naive_bayes import CategoricalNB\n",
    "from sklearn.preprocessing import normalize\n",
    "import matplotlib.pyplot as plt"
   ]
  },
  {
   "cell_type": "code",
   "execution_count": 2,
   "metadata": {},
   "outputs": [],
   "source": [
    "start_date = \"2010-11-01\"\n",
    "end_date =  \"2020-11-01\"\n",
    "\n",
    "company_name = \"AMZN\" #Amazon\n",
    "\n",
    "#Getting Stock market data from start_date to end_date of \"Amazon\"\n",
    "df = pdr.get_data_yahoo(company_name, start_date,end_date )"
   ]
  },
  {
   "cell_type": "code",
   "execution_count": 3,
   "metadata": {},
   "outputs": [
    {
     "data": {
      "text/html": [
       "<div>\n",
       "<style scoped>\n",
       "    .dataframe tbody tr th:only-of-type {\n",
       "        vertical-align: middle;\n",
       "    }\n",
       "\n",
       "    .dataframe tbody tr th {\n",
       "        vertical-align: top;\n",
       "    }\n",
       "\n",
       "    .dataframe thead th {\n",
       "        text-align: right;\n",
       "    }\n",
       "</style>\n",
       "<table border=\"1\" class=\"dataframe\">\n",
       "  <thead>\n",
       "    <tr style=\"text-align: right;\">\n",
       "      <th></th>\n",
       "      <th>High</th>\n",
       "      <th>Low</th>\n",
       "      <th>Open</th>\n",
       "      <th>Close</th>\n",
       "      <th>Volume</th>\n",
       "      <th>Adj Close</th>\n",
       "    </tr>\n",
       "  </thead>\n",
       "  <tbody>\n",
       "    <tr>\n",
       "      <th>count</th>\n",
       "      <td>2518.000000</td>\n",
       "      <td>2518.000000</td>\n",
       "      <td>2518.000000</td>\n",
       "      <td>2518.000000</td>\n",
       "      <td>2.518000e+03</td>\n",
       "      <td>2518.000000</td>\n",
       "    </tr>\n",
       "    <tr>\n",
       "      <th>mean</th>\n",
       "      <td>890.681473</td>\n",
       "      <td>870.795627</td>\n",
       "      <td>881.336831</td>\n",
       "      <td>881.182176</td>\n",
       "      <td>4.313667e+06</td>\n",
       "      <td>881.182176</td>\n",
       "    </tr>\n",
       "    <tr>\n",
       "      <th>std</th>\n",
       "      <td>784.238880</td>\n",
       "      <td>764.220554</td>\n",
       "      <td>774.991907</td>\n",
       "      <td>774.472276</td>\n",
       "      <td>2.388177e+06</td>\n",
       "      <td>774.472276</td>\n",
       "    </tr>\n",
       "    <tr>\n",
       "      <th>min</th>\n",
       "      <td>160.850006</td>\n",
       "      <td>156.770004</td>\n",
       "      <td>157.839996</td>\n",
       "      <td>157.779999</td>\n",
       "      <td>8.813000e+05</td>\n",
       "      <td>157.779999</td>\n",
       "    </tr>\n",
       "    <tr>\n",
       "      <th>25%</th>\n",
       "      <td>272.039993</td>\n",
       "      <td>266.537498</td>\n",
       "      <td>269.797493</td>\n",
       "      <td>269.540001</td>\n",
       "      <td>2.769650e+06</td>\n",
       "      <td>269.540001</td>\n",
       "    </tr>\n",
       "    <tr>\n",
       "      <th>50%</th>\n",
       "      <td>555.619995</td>\n",
       "      <td>539.739990</td>\n",
       "      <td>547.005005</td>\n",
       "      <td>551.135010</td>\n",
       "      <td>3.708400e+06</td>\n",
       "      <td>551.135010</td>\n",
       "    </tr>\n",
       "    <tr>\n",
       "      <th>75%</th>\n",
       "      <td>1572.517487</td>\n",
       "      <td>1521.460022</td>\n",
       "      <td>1549.172485</td>\n",
       "      <td>1544.927551</td>\n",
       "      <td>5.094975e+06</td>\n",
       "      <td>1544.927551</td>\n",
       "    </tr>\n",
       "    <tr>\n",
       "      <th>max</th>\n",
       "      <td>3552.250000</td>\n",
       "      <td>3486.689941</td>\n",
       "      <td>3547.000000</td>\n",
       "      <td>3531.449951</td>\n",
       "      <td>2.413420e+07</td>\n",
       "      <td>3531.449951</td>\n",
       "    </tr>\n",
       "  </tbody>\n",
       "</table>\n",
       "</div>"
      ],
      "text/plain": [
       "              High          Low         Open        Close        Volume    Adj Close\n",
       "count  2518.000000  2518.000000  2518.000000  2518.000000  2.518000e+03  2518.000000\n",
       "mean    890.681473   870.795627   881.336831   881.182176  4.313667e+06   881.182176\n",
       "std     784.238880   764.220554   774.991907   774.472276  2.388177e+06   774.472276\n",
       "min     160.850006   156.770004   157.839996   157.779999  8.813000e+05   157.779999\n",
       "25%     272.039993   266.537498   269.797493   269.540001  2.769650e+06   269.540001\n",
       "50%     555.619995   539.739990   547.005005   551.135010  3.708400e+06   551.135010\n",
       "75%    1572.517487  1521.460022  1549.172485  1544.927551  5.094975e+06  1544.927551\n",
       "max    3552.250000  3486.689941  3547.000000  3531.449951  2.413420e+07  3531.449951"
      ]
     },
     "execution_count": 3,
     "metadata": {},
     "output_type": "execute_result"
    }
   ],
   "source": [
    "df.describe()"
   ]
  },
  {
   "cell_type": "code",
   "execution_count": 4,
   "metadata": {},
   "outputs": [
    {
     "data": {
      "text/html": [
       "<div>\n",
       "<style scoped>\n",
       "    .dataframe tbody tr th:only-of-type {\n",
       "        vertical-align: middle;\n",
       "    }\n",
       "\n",
       "    .dataframe tbody tr th {\n",
       "        vertical-align: top;\n",
       "    }\n",
       "\n",
       "    .dataframe thead th {\n",
       "        text-align: right;\n",
       "    }\n",
       "</style>\n",
       "<table border=\"1\" class=\"dataframe\">\n",
       "  <thead>\n",
       "    <tr style=\"text-align: right;\">\n",
       "      <th></th>\n",
       "      <th>High</th>\n",
       "      <th>Low</th>\n",
       "      <th>Open</th>\n",
       "      <th>Close</th>\n",
       "      <th>Volume</th>\n",
       "      <th>Adj Close</th>\n",
       "    </tr>\n",
       "    <tr>\n",
       "      <th>Date</th>\n",
       "      <th></th>\n",
       "      <th></th>\n",
       "      <th></th>\n",
       "      <th></th>\n",
       "      <th></th>\n",
       "      <th></th>\n",
       "    </tr>\n",
       "  </thead>\n",
       "  <tbody>\n",
       "    <tr>\n",
       "      <th>2010-11-01</th>\n",
       "      <td>164.580002</td>\n",
       "      <td>161.520004</td>\n",
       "      <td>164.449997</td>\n",
       "      <td>162.580002</td>\n",
       "      <td>5239900</td>\n",
       "      <td>162.580002</td>\n",
       "    </tr>\n",
       "    <tr>\n",
       "      <th>2010-11-02</th>\n",
       "      <td>165.940002</td>\n",
       "      <td>163.360001</td>\n",
       "      <td>163.750000</td>\n",
       "      <td>164.610001</td>\n",
       "      <td>4260000</td>\n",
       "      <td>164.610001</td>\n",
       "    </tr>\n",
       "    <tr>\n",
       "      <th>2010-11-03</th>\n",
       "      <td>168.610001</td>\n",
       "      <td>162.289993</td>\n",
       "      <td>165.399994</td>\n",
       "      <td>168.470001</td>\n",
       "      <td>6112100</td>\n",
       "      <td>168.470001</td>\n",
       "    </tr>\n",
       "    <tr>\n",
       "      <th>2010-11-04</th>\n",
       "      <td>172.529999</td>\n",
       "      <td>168.399994</td>\n",
       "      <td>169.860001</td>\n",
       "      <td>168.929993</td>\n",
       "      <td>7395900</td>\n",
       "      <td>168.929993</td>\n",
       "    </tr>\n",
       "    <tr>\n",
       "      <th>2010-11-05</th>\n",
       "      <td>171.649994</td>\n",
       "      <td>168.589996</td>\n",
       "      <td>169.350006</td>\n",
       "      <td>170.770004</td>\n",
       "      <td>5212200</td>\n",
       "      <td>170.770004</td>\n",
       "    </tr>\n",
       "  </tbody>\n",
       "</table>\n",
       "</div>"
      ],
      "text/plain": [
       "                  High         Low        Open       Close   Volume   Adj Close\n",
       "Date                                                                           \n",
       "2010-11-01  164.580002  161.520004  164.449997  162.580002  5239900  162.580002\n",
       "2010-11-02  165.940002  163.360001  163.750000  164.610001  4260000  164.610001\n",
       "2010-11-03  168.610001  162.289993  165.399994  168.470001  6112100  168.470001\n",
       "2010-11-04  172.529999  168.399994  169.860001  168.929993  7395900  168.929993\n",
       "2010-11-05  171.649994  168.589996  169.350006  170.770004  5212200  170.770004"
      ]
     },
     "execution_count": 4,
     "metadata": {},
     "output_type": "execute_result"
    }
   ],
   "source": [
    "df.head()"
   ]
  },
  {
   "cell_type": "code",
   "execution_count": 5,
   "metadata": {},
   "outputs": [
    {
     "data": {
      "image/png": "[encoded data removed]",
      "text/plain": [
       "<Figure size 1440x504 with 1 Axes>"
      ]
     },
     "metadata": {
      "needs_background": "light"
     },
     "output_type": "display_data"
    }
   ],
   "source": [
    "plt.figure(figsize=(20,7))\n",
    "plt.plot(df[\"Close\"],label=\"Amazon Stock\")\n",
    "plt.title(\"Closing Price vs Date\")\n",
    "plt.xlabel(\"Date\")\n",
    "plt.ylabel(\"Close Price in USD\")\n",
    "plt.legend()\n",
    "plt.savefig(\"Closing Price vs Date.png\",dpi=300)\n",
    "plt.show()"
   ]
  },
  {
   "cell_type": "code",
   "execution_count": 6,
   "metadata": {},
   "outputs": [],
   "source": [
    "# Calculating the difference in closing prices\n",
    "df[\"Diff\"] = df.Close.diff()\n",
    "\n",
    "# calculating moving average of closing price over 2 days to smoothen the curve\n",
    "df[\"SMA_2\"] = df.Close.rolling(2).mean()\n",
    "\n",
    "# calculating index\n",
    "df[\"Force_Index\"] = df[\"Close\"] * df[\"Volume\"]\n",
    "\n",
    "# assigning lable y = 1 if stock price has increased and 0 otherwise\n",
    "df[\"y\"] = df[\"Diff\"].apply(lambda x: 1 if x > 0 else -1).shift(-1)\n",
    "\n",
    "#removing redundant columns and cleaning data\n",
    "df = df.dropna()"
   ]
  },
  {
   "cell_type": "code",
   "execution_count": 7,
   "metadata": {},
   "outputs": [],
   "source": [
    "# converting dataframe to numpy array\n",
    "data = df.to_numpy()\n",
    "# normalizing data\n",
    "data = normalize(data)"
   ]
  },
  {
   "cell_type": "code",
   "execution_count": 8,
   "metadata": {},
   "outputs": [],
   "source": [
    "#saperating normalized features\n",
    "X = data[:,:-1]\n",
    "\n",
    "# assinig lable values \n",
    "y = df[\"y\"].values\n",
    "\n",
    "#splitting in test and training set\n",
    "X_train, X_test, y_train, y_test = train_test_split(\n",
    "   X,\n",
    "   y,\n",
    "   test_size=0.064,\n",
    "   shuffle=False,\n",
    ")\n"
   ]
  },
  {
   "cell_type": "code",
   "execution_count": 9,
   "metadata": {},
   "outputs": [
    {
     "name": "stdout",
     "output_type": "stream",
     "text": [
      "Accuracy by using Bernoulli Naive Bayes classifier :  59.25925925925925 %\n"
     ]
    }
   ],
   "source": [
    "#creating classifier\n",
    "clf = BernoulliNB()\n",
    "\n",
    "#training \n",
    "clf.fit(X_train,y_train)\n",
    "\n",
    "#predicting based on X_test\n",
    "y_pred = clf.predict(X_test)\n",
    "\n",
    "#Calculating accuracy\n",
    "print(\"Accuracy by using Bernoulli Naive Bayes classifier : \" , accuracy_score(y_test, y_pred)*100 ,\"%\")"
   ]
  },
  {
   "cell_type": "code",
   "execution_count": 10,
   "metadata": {},
   "outputs": [
    {
     "name": "stdout",
     "output_type": "stream",
     "text": [
      "Accuracy by using Gaussian Naive Bayes classifier :  59.25925925925925 %\n"
     ]
    }
   ],
   "source": [
    "#creating classifier\n",
    "clf = GaussianNB()\n",
    "\n",
    "#training \n",
    "clf.fit(X_train,y_train)\n",
    "\n",
    "#predicting based on X_test\n",
    "y_pred = clf.predict(X_test)\n",
    "\n",
    "#Calculating accuracy\n",
    "print(\"Accuracy by using Gaussian Naive Bayes classifier : \" , accuracy_score(y_test, y_pred)*100 ,\"%\")"
   ]
  },
  {
   "cell_type": "code",
   "execution_count": 11,
   "metadata": {},
   "outputs": [
    {
     "name": "stdout",
     "output_type": "stream",
     "text": [
      "Accuracy by using Gaussian Naive Bayes classifier :  59.25925925925925 %\n"
     ]
    }
   ],
   "source": [
    "#creating classifier\n",
    "clf = CategoricalNB()\n",
    "\n",
    "#training \n",
    "clf.fit(X_train,y_train)\n",
    "\n",
    "#predicting based on X_test\n",
    "y_pred = clf.predict(X_test)\n",
    "\n",
    "#Calculating accuracy\n",
    "print(\"Accuracy by using Gaussian Naive Bayes classifier : \" , accuracy_score(y_test, y_pred)*100 ,\"%\")"
   ]
  },
  {
   "cell_type": "code",
   "execution_count": null,
   "metadata": {},
   "outputs": [],
   "source": []
  },
  {
   "cell_type": "code",
   "execution_count": null,
   "metadata": {},
   "outputs": [],
   "source": []
  }
 ],
 "metadata": {
  "kernelspec": {
   "display_name": "Python 3",
   "language": "python",
   "name": "python3"
  },
  "language_info": {
   "codemirror_mode": {
    "name": "ipython",
    "version": 3
   },
   "file_extension": ".py",
   "mimetype": "text/x-python",
   "name": "python",
   "nbconvert_exporter": "python",
   "pygments_lexer": "ipython3",
   "version": "3.9.1"
  }
 },
 "nbformat": 4,
 "nbformat_minor": 4
}
